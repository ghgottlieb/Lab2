{
 "cells": [
  {
   "cell_type": "markdown",
   "metadata": {},
   "source": [
    "<h1>Analyzing the Amount of Sightings Per Month and Year and the Location of Each Sighting of Snowy Owls, Bramblings, Black Swifts, Harlequin Ducks, Lazuli Buntings, and Annas Hummingbirds, 2009-2016"
   ]
  },
  {
   "cell_type": "markdown",
   "metadata": {},
   "source": [
    "Genevieve Gottlieb <br/>\n",
    "Big Data and Analytics, Lab 2 <br/>\n",
    "10/4/16"
   ]
  },
  {
   "cell_type": "markdown",
   "metadata": {},
   "source": [
    "<H3>Introduction:"
   ]
  },
  {
   "cell_type": "markdown",
   "metadata": {},
   "source": [
    "In this lab I use data collected from eBird to create graphs of how many many bird sightings there are every month and every year for each bird, and plot the location of each sighting based on the latitude and longitude. I then draw conclusions based on the results of this data."
   ]
  },
  {
   "cell_type": "code",
   "execution_count": 2,
   "metadata": {
    "collapsed": false
   },
   "outputs": [],
   "source": [
    "file = open(\"SnowyOwl.csv\", \"r\", errors=\"ignore\")\n",
    "flist =[]\n",
    "for i in file:\n",
    "    flist.append(i)\n",
    "del flist[0]\n",
    "for j in range(len(flist)):\n",
    "    flist[j]=flist[j].split(\",\")"
   ]
  },
  {
   "cell_type": "code",
   "execution_count": 3,
   "metadata": {
    "collapsed": false
   },
   "outputs": [
    {
     "name": "stdout",
     "output_type": "stream",
     "text": [
      "Snowy Owls seen in January: 118\n",
      "Snowy Owls seen in February: 4\n",
      "Snowy Owls seen in March: 4\n",
      "Snowy Owls seen in April: 0\n",
      "Snowy Owls seen in May: 0\n",
      "Snowy Owls seen in June: 0\n",
      "Snowy Owls seen in July: 0\n",
      "Snowy Owls seen in August: 0\n",
      "Snowy Owls seen in September: 0\n",
      "Snowy Owls seen in October: 0\n",
      "Snowy Owls seen in November: 11\n",
      "Snowy Owls seen in December: 50\n"
     ]
    },
    {
     "data": {
      "text/plain": [
       "<matplotlib.text.Text at 0x10f4b64e0>"
      ]
     },
     "execution_count": 3,
     "metadata": {},
     "output_type": "execute_result"
    },
    {
     "data": {
      "image/png": "[encoded data removed]",
      "text/plain": [
       "<matplotlib.figure.Figure at 0x1040f8dd8>"
      ]
     },
     "metadata": {},
     "output_type": "display_data"
    }
   ],
   "source": [
    "#How many sightings in each month for Snowy Owls\n",
    "january = 0\n",
    "february = 0\n",
    "march = 0\n",
    "april = 0\n",
    "may = 0\n",
    "june = 0\n",
    "july = 0\n",
    "august = 0\n",
    "september = 0\n",
    "october = 0\n",
    "november = 0\n",
    "december = 0\n",
    "for row in flist:\n",
    "    if row[14][0:1] == '1':\n",
    "        january+=1\n",
    "    if row[14][0:1] == '2':\n",
    "        february+=1\n",
    "    if row[14][0:1] == '3':\n",
    "        march+=1\n",
    "    if row[14][0:1] == '4':\n",
    "        april+=1\n",
    "    if row[14][0:1] == '5':\n",
    "        may+=1\n",
    "    if row[14][0:1] == '6':\n",
    "        june+=1\n",
    "    if row[14][0:1] == '7':\n",
    "        july+=1\n",
    "    if row[14][0:1] == '8':\n",
    "        august+=1\n",
    "    if row[14][0:1] == '9':\n",
    "        september+=1\n",
    "    if row[14][0:2] == '10':\n",
    "        october+=1\n",
    "    if row[14][0:2] == '11':\n",
    "        november+=1\n",
    "    if row[14][0:2] == '12':\n",
    "        december+=1\n",
    "print(\"Snowy Owls seen in January:\", january)\n",
    "print(\"Snowy Owls seen in February:\", february)\n",
    "print(\"Snowy Owls seen in March:\", march)\n",
    "print(\"Snowy Owls seen in April:\", april)\n",
    "print(\"Snowy Owls seen in May:\", may)\n",
    "print(\"Snowy Owls seen in June:\", june)\n",
    "print(\"Snowy Owls seen in July:\", july)\n",
    "print(\"Snowy Owls seen in August:\", august)\n",
    "print(\"Snowy Owls seen in September:\", september)\n",
    "print(\"Snowy Owls seen in October:\", october)\n",
    "print(\"Snowy Owls seen in November:\", november)\n",
    "print(\"Snowy Owls seen in December:\", december)\n",
    "#Graphing how many Snowy Owls are seen each month\n",
    "import matplotlib.pyplot as plt\n",
    "% matplotlib inline\n",
    "months=[january, february, march, april, may, june, july, august, september, october, november, december]\n",
    "plt.hist(months)\n",
    "plt.title(\"Number of Snowy Owls Seen Each Month\")\n",
    "plt.xlabel(\"Snowy Owls Seen\")\n",
    "plt.ylabel(\"Frequency of Number\")"
   ]
  },
  {
   "cell_type": "markdown",
   "metadata": {},
   "source": [
    "Analysis:<br/>\n",
    "Based on this graph of the number of Snowy Owls seen each month, you can see they are the most prominent throughout King County in the spring."
   ]
  },
  {
   "cell_type": "code",
   "execution_count": 4,
   "metadata": {
    "collapsed": false
   },
   "outputs": [
    {
     "name": "stdout",
     "output_type": "stream",
     "text": [
      "Snowy Owls seen in 2009: 0\n",
      "Snowy Owls seen in 2010: 0\n",
      "Snowy Owls seen in 2011: 6\n",
      "Snowy Owls seen in 2012: 55\n",
      "Snowy Owls seen in 2013: 65\n",
      "Snowy Owls seen in 2014: 0\n",
      "Snowy Owls seen in 2015: 0\n",
      "Snowy Owls seen in 2016: 0\n"
     ]
    }
   ],
   "source": [
    "#How many sightings in each year for Snowy Owls\n",
    "year09 = 0\n",
    "year10 = 0\n",
    "year11 = 0\n",
    "year12 = 0\n",
    "year13 = 0\n",
    "year14 = 0\n",
    "year15 = 0\n",
    "year16 = 0\n",
    "for row in flist:\n",
    "    if row[14][-1] == '9':\n",
    "        year09+=1\n",
    "    if row[14][-1] == '0':\n",
    "        year10+=1\n",
    "    if row[14][-1] == '1':\n",
    "        year11+=1\n",
    "    if row[14][-1] == '2':\n",
    "        year12+=1\n",
    "    if row[14][-1] == '3':\n",
    "        year13+=1\n",
    "    if row[14][-1] == '4':\n",
    "        year14+=1\n",
    "    if row[14][-1] == '5':\n",
    "        year15+=1\n",
    "    if row[14][-1] == '6':\n",
    "        year16+=1\n",
    "print(\"Snowy Owls seen in 2009:\", year09)\n",
    "print(\"Snowy Owls seen in 2010:\", year10)\n",
    "print(\"Snowy Owls seen in 2011:\", year11)\n",
    "print(\"Snowy Owls seen in 2012:\", year12)\n",
    "print(\"Snowy Owls seen in 2013:\", year13)\n",
    "print(\"Snowy Owls seen in 2014:\", year14)\n",
    "print(\"Snowy Owls seen in 2015:\", year15)\n",
    "print(\"Snowy Owls seen in 2016:\", year16)"
   ]
  },
  {
   "cell_type": "markdown",
   "metadata": {},
   "source": [
    "Analysis:<br/>\n",
    "Based on this data regarding the number of Snowy Owls seen each year, you can see they were only seen from 2011-2013, 2013 being the most."
   ]
  },
  {
   "cell_type": "code",
   "execution_count": 5,
   "metadata": {
    "collapsed": false
   },
   "outputs": [
    {
     "data": {
      "text/plain": [
       "<matplotlib.text.Text at 0x10fa1bef0>"
      ]
     },
     "execution_count": 5,
     "metadata": {},
     "output_type": "execute_result"
    },
    {
     "data": {
      "image/png": "[encoded data removed]",
      "text/plain": [
       "<matplotlib.figure.Figure at 0x1040dd588>"
      ]
     },
     "metadata": {},
     "output_type": "display_data"
    }
   ],
   "source": [
    "#Finding where Snowy Owls are observed and graphing that\n",
    "import matplotlib.pyplot as plt\n",
    "% matplotlib inline\n",
    "file = open(\"SnowyOwl.csv\", \"r\", errors=\"ignore\")\n",
    "flist = []\n",
    "latlist = []\n",
    "lonlist = []\n",
    "for i in file:\n",
    "    flist.append(i)\n",
    "del flist[0]\n",
    "for j in range(len(flist)):\n",
    "    flist[j]=flist[j].split(\",\")\n",
    "for i in range(len(flist)):\n",
    "    latlist.append(float(flist[i][12]))\n",
    "    lonlist.append(float(flist[i][13]))\n",
    "plt.scatter(lonlist,latlist)\n",
    "plt.title(\"Location of Snowy Owls Throughout King County\")\n",
    "plt.xlabel(\"Longitude\")\n",
    "plt.ylabel(\"Latitude\")"
   ]
  },
  {
   "cell_type": "markdown",
   "metadata": {},
   "source": [
    "Analysis:<br/>\n",
    "Based on this graph of the location of where Snowy Owls were seen each month, you can see there are quite a few number of outliers, meaning there is not a very specific place where Snowy Owls are, although they do seem to be west."
   ]
  },
  {
   "cell_type": "code",
   "execution_count": 20,
   "metadata": {
    "collapsed": false
   },
   "outputs": [],
   "source": [
    "file = open(\"Brambling.csv\", \"r\", errors=\"ignore\")\n",
    "flist =[]\n",
    "for i in file:\n",
    "    flist.append(i)\n",
    "del flist[0]\n",
    "for j in range(len(flist)):\n",
    "    flist[j]=flist[j].split(\",\")"
   ]
  },
  {
   "cell_type": "code",
   "execution_count": 21,
   "metadata": {
    "collapsed": false
   },
   "outputs": [
    {
     "name": "stdout",
     "output_type": "stream",
     "text": [
      "Bramblings seen in January: 0\n",
      "Bramblings seen in February: 29\n",
      "Bramblings seen in March: 50\n",
      "Bramblings seen in April: 6\n",
      "Bramblings seen in May: 0\n",
      "Bramblings seen in June: 0\n",
      "Bramblings seen in July: 0\n",
      "Bramblings seen in August: 0\n",
      "Bramblings seen in September: 0\n",
      "Bramblings seen in October: 0\n",
      "Bramblings seen in November: 0\n",
      "Bramblings seen in December: 0\n"
     ]
    },
    {
     "data": {
      "text/plain": [
       "<matplotlib.text.Text at 0x10f426438>"
      ]
     },
     "execution_count": 21,
     "metadata": {},
     "output_type": "execute_result"
    },
    {
     "data": {
      "image/png": "[encoded data removed]",
      "text/plain": [
       "<matplotlib.figure.Figure at 0x10cf30cf8>"
      ]
     },
     "metadata": {},
     "output_type": "display_data"
    }
   ],
   "source": [
    "#How many sightings in each month for Bramblings\n",
    "january = 0\n",
    "february = 0\n",
    "march = 0\n",
    "april = 0\n",
    "may = 0\n",
    "june = 0\n",
    "july = 0\n",
    "august = 0\n",
    "september = 0\n",
    "october = 0\n",
    "november = 0\n",
    "december = 0\n",
    "for row in flist:\n",
    "    if row[14][0:1] == '1':\n",
    "        january+=1\n",
    "    if row[14][0:1] == '2':\n",
    "        february+=1\n",
    "    if row[14][0:1] == '3':\n",
    "        march+=1\n",
    "    if row[14][0:1] == '4':\n",
    "        april+=1\n",
    "    if row[14][0:1] == '5':\n",
    "        may+=1\n",
    "    if row[14][0:1] == '6':\n",
    "        june+=1\n",
    "    if row[14][0:1] == '7':\n",
    "        july+=1\n",
    "    if row[14][0:1] == '8':\n",
    "        august+=1\n",
    "    if row[14][0:1] == '9':\n",
    "        september+=1\n",
    "    if row[14][0:2] == '10':\n",
    "        october+=1\n",
    "    if row[14][0:2] == '11':\n",
    "        november+=1\n",
    "    if row[14][0:2] == '12':\n",
    "        december+=1\n",
    "print(\"Bramblings seen in January:\", january)\n",
    "print(\"Bramblings seen in February:\", february)\n",
    "print(\"Bramblings seen in March:\", march)\n",
    "print(\"Bramblings seen in April:\", april)\n",
    "print(\"Bramblings seen in May:\", may)\n",
    "print(\"Bramblings seen in June:\", june)\n",
    "print(\"Bramblings seen in July:\", july)\n",
    "print(\"Bramblings seen in August:\", august)\n",
    "print(\"Bramblings seen in September:\", september)\n",
    "print(\"Bramblings seen in October:\", october)\n",
    "print(\"Bramblings seen in November:\", november)\n",
    "print(\"Bramblings seen in December:\", december)\n",
    "#Graphing how many Bramblings are seen each month\n",
    "import matplotlib.pyplot as plt\n",
    "% matplotlib inline\n",
    "months=[january, february, march, april, may, june, july, august, september, october, november, december]\n",
    "plt.hist(months)\n",
    "plt.title(\"Number of Bramblings Seen Each Month\")\n",
    "plt.xlabel(\"Bramblings Seen\")\n",
    "plt.ylabel(\"Frequency of Number\")"
   ]
  },
  {
   "cell_type": "markdown",
   "metadata": {},
   "source": [
    "Analysis:<br/>\n",
    "Based on this graph of the number of Bramblings seen each month, you can see they are the most prominent throughout King County in the late winter and early spring, in March especially."
   ]
  },
  {
   "cell_type": "code",
   "execution_count": 35,
   "metadata": {
    "collapsed": false
   },
   "outputs": [
    {
     "name": "stdout",
     "output_type": "stream",
     "text": [
      "Bramblings seen in 2009: 0\n",
      "Bramblings seen in 2010: 0\n",
      "Bramblings seen in 2011: 0\n",
      "Bramblings seen in 2012: 0\n",
      "Bramblings seen in 2013: 0\n",
      "Bramblings seen in 2014: 0\n",
      "Bramblings seen in 2015: 85\n",
      "Bramblings seen in 2016: 0\n"
     ]
    }
   ],
   "source": [
    "#How many sightings in each year for Bramblings\n",
    "year09 = 0\n",
    "year10 = 0\n",
    "year11 = 0\n",
    "year12 = 0\n",
    "year13 = 0\n",
    "year14 = 0\n",
    "year15 = 0\n",
    "year16 = 0\n",
    "for row in flist:\n",
    "    if row[14][-1] == '9':\n",
    "        year09+=1\n",
    "    if row[14][-1] == '0':\n",
    "        year10+=1\n",
    "    if row[14][-1] == '1':\n",
    "        year11+=1\n",
    "    if row[14][-1] == '2':\n",
    "        year12+=1\n",
    "    if row[14][-1] == '3':\n",
    "        year13+=1\n",
    "    if row[14][-1] == '4':\n",
    "        year14+=1\n",
    "    if row[14][-1] == '5':\n",
    "        year15+=1\n",
    "    if row[14][-1] == '6':\n",
    "        year16+=1\n",
    "print(\"Bramblings seen in 2009:\", year09)\n",
    "print(\"Bramblings seen in 2010:\", year10)\n",
    "print(\"Bramblings seen in 2011:\", year11)\n",
    "print(\"Bramblings seen in 2012:\", year12)\n",
    "print(\"Bramblings seen in 2013:\", year13)\n",
    "print(\"Bramblings seen in 2014:\", year14)\n",
    "print(\"Bramblings seen in 2015:\", year15)\n",
    "print(\"Bramblings seen in 2016:\", year16)"
   ]
  },
  {
   "cell_type": "markdown",
   "metadata": {},
   "source": [
    "Analysis:<br/>\n",
    "Based on this data regarding the number of Bramblings seen each year, you can see they were only seen in 2015."
   ]
  },
  {
   "cell_type": "code",
   "execution_count": 6,
   "metadata": {
    "collapsed": false
   },
   "outputs": [
    {
     "data": {
      "text/plain": [
       "<matplotlib.text.Text at 0x10fac7d68>"
      ]
     },
     "execution_count": 6,
     "metadata": {},
     "output_type": "execute_result"
    },
    {
     "data": {
      "image/png": "[encoded data removed]",
      "text/plain": [
       "<matplotlib.figure.Figure at 0x10fab0668>"
      ]
     },
     "metadata": {},
     "output_type": "display_data"
    }
   ],
   "source": [
    "#Finding where Bramblings are observed and graphing that\n",
    "import matplotlib.pyplot as plt\n",
    "% matplotlib inline\n",
    "file = open(\"Brambling.csv\", \"r\", errors=\"ignore\")\n",
    "flist = []\n",
    "latlist = []\n",
    "lonlist = []\n",
    "for i in file:\n",
    "    flist.append(i)\n",
    "del flist[0]\n",
    "for j in range(len(flist)):\n",
    "    flist[j]=flist[j].split(\",\")\n",
    "for i in range(len(flist)):\n",
    "    latlist.append(float(flist[i][12]))\n",
    "    lonlist.append(float(flist[i][13]))\n",
    "plt.scatter(lonlist,latlist)\n",
    "plt.title(\"Location of Bramblings Throughout King County\")\n",
    "plt.xlabel(\"Longitude\")\n",
    "plt.ylabel(\"Latitude\")"
   ]
  },
  {
   "cell_type": "markdown",
   "metadata": {},
   "source": [
    "Analysis:<br/>\n",
    "Based on this graph of the location of where Bramblings were seen each month, you can see there is not much data to be plotted, and there is no pattern but seemingly random sightings."
   ]
  },
  {
   "cell_type": "code",
   "execution_count": 22,
   "metadata": {
    "collapsed": false
   },
   "outputs": [],
   "source": [
    "file = open(\"BlackSwift.csv\", \"r\", errors=\"ignore\")\n",
    "flist =[]\n",
    "for i in file:\n",
    "    flist.append(i)\n",
    "del flist[0]\n",
    "for j in range(len(flist)):\n",
    "    flist[j]=flist[j].split(\",\")"
   ]
  },
  {
   "cell_type": "code",
   "execution_count": 23,
   "metadata": {
    "collapsed": false
   },
   "outputs": [
    {
     "name": "stdout",
     "output_type": "stream",
     "text": [
      "Black Swifts seen in January: 0\n",
      "Black Swifts seen in February: 0\n",
      "Black Swifts seen in March: 0\n",
      "Black Swifts seen in April: 0\n",
      "Black Swifts seen in May: 57\n",
      "Black Swifts seen in June: 197\n",
      "Black Swifts seen in July: 80\n",
      "Black Swifts seen in August: 61\n",
      "Black Swifts seen in September: 19\n",
      "Black Swifts seen in October: 0\n",
      "Black Swifts seen in November: 0\n",
      "Black Swifts seen in December: 0\n"
     ]
    },
    {
     "data": {
      "text/plain": [
       "<matplotlib.text.Text at 0x10f4ca208>"
      ]
     },
     "execution_count": 23,
     "metadata": {},
     "output_type": "execute_result"
    },
    {
     "data": {
      "image/png": "[encoded data removed]",
      "text/plain": [
       "<matplotlib.figure.Figure at 0x11004ca58>"
      ]
     },
     "metadata": {},
     "output_type": "display_data"
    }
   ],
   "source": [
    "#How many sightings in each month for Black Swifts\n",
    "january = 0\n",
    "february = 0\n",
    "march = 0\n",
    "april = 0\n",
    "may = 0\n",
    "june = 0\n",
    "july = 0\n",
    "august = 0\n",
    "september = 0\n",
    "october = 0\n",
    "november = 0\n",
    "december = 0\n",
    "for row in flist:\n",
    "    if row[14][0:1] == '1':\n",
    "        january+=1\n",
    "    if row[14][0:1] == '2':\n",
    "        february+=1\n",
    "    if row[14][0:1] == '3':\n",
    "        march+=1\n",
    "    if row[14][0:1] == '4':\n",
    "        april+=1\n",
    "    if row[14][0:1] == '5':\n",
    "        may+=1\n",
    "    if row[14][0:1] == '6':\n",
    "        june+=1\n",
    "    if row[14][0:1] == '7':\n",
    "        july+=1\n",
    "    if row[14][0:1] == '8':\n",
    "        august+=1\n",
    "    if row[14][0:1] == '9':\n",
    "        september+=1\n",
    "    if row[14][0:2] == '10':\n",
    "        october+=1\n",
    "    if row[14][0:2] == '11':\n",
    "        november+=1\n",
    "    if row[14][0:2] == '12':\n",
    "        december+=1\n",
    "print(\"Black Swifts seen in January:\", january)\n",
    "print(\"Black Swifts seen in February:\", february)\n",
    "print(\"Black Swifts seen in March:\", march)\n",
    "print(\"Black Swifts seen in April:\", april)\n",
    "print(\"Black Swifts seen in May:\", may)\n",
    "print(\"Black Swifts seen in June:\", june)\n",
    "print(\"Black Swifts seen in July:\", july)\n",
    "print(\"Black Swifts seen in August:\", august)\n",
    "print(\"Black Swifts seen in September:\", september)\n",
    "print(\"Black Swifts seen in October:\", october)\n",
    "print(\"Black Swifts seen in November:\", november)\n",
    "print(\"Black Swifts seen in December:\", december)\n",
    "#Graphing how many Black Swifts are seen each month\n",
    "import matplotlib.pyplot as plt\n",
    "% matplotlib inline\n",
    "months=[january, february, march, april, may, june, july, august, september, october, november, december]\n",
    "plt.hist(months)\n",
    "plt.title(\"Number of Black Swifts Seen Each Month\")\n",
    "plt.xlabel(\"Black Swifts Seen\")\n",
    "plt.ylabel(\"Frequency of Number\")"
   ]
  },
  {
   "cell_type": "markdown",
   "metadata": {},
   "source": [
    "Analysis:<br/>\n",
    "Based on this graph of the number of Black Swifts seen each month, you can see they are the most prominent throughout King County in the late spring and early summer, especially in June."
   ]
  },
  {
   "cell_type": "code",
   "execution_count": 38,
   "metadata": {
    "collapsed": false
   },
   "outputs": [
    {
     "name": "stdout",
     "output_type": "stream",
     "text": [
      "Black Swifts seen in 2009: 14\n",
      "Black Swifts seen in 2010: 39\n",
      "Black Swifts seen in 2011: 34\n",
      "Black Swifts seen in 2012: 53\n",
      "Black Swifts seen in 2013: 34\n",
      "Black Swifts seen in 2014: 61\n",
      "Black Swifts seen in 2015: 74\n",
      "Black Swifts seen in 2016: 105\n"
     ]
    }
   ],
   "source": [
    "#How many sightings in each year for Black Swifts\n",
    "year09 = 0\n",
    "year10 = 0\n",
    "year11 = 0\n",
    "year12 = 0\n",
    "year13 = 0\n",
    "year14 = 0\n",
    "year15 = 0\n",
    "year16 = 0\n",
    "for row in flist:\n",
    "    if row[14][-1] == '9':\n",
    "        year09+=1\n",
    "    if row[14][-1] == '0':\n",
    "        year10+=1\n",
    "    if row[14][-1] == '1':\n",
    "        year11+=1\n",
    "    if row[14][-1] == '2':\n",
    "        year12+=1\n",
    "    if row[14][-1] == '3':\n",
    "        year13+=1\n",
    "    if row[14][-1] == '4':\n",
    "        year14+=1\n",
    "    if row[14][-1] == '5':\n",
    "        year15+=1\n",
    "    if row[14][-1] == '6':\n",
    "        year16+=1\n",
    "print(\"Black Swifts seen in 2009:\", year09)\n",
    "print(\"Black Swifts seen in 2010:\", year10)\n",
    "print(\"Black Swifts seen in 2011:\", year11)\n",
    "print(\"Black Swifts seen in 2012:\", year12)\n",
    "print(\"Black Swifts seen in 2013:\", year13)\n",
    "print(\"Black Swifts seen in 2014:\", year14)\n",
    "print(\"Black Swifts seen in 2015:\", year15)\n",
    "print(\"Black Swifts seen in 2016:\", year16)"
   ]
  },
  {
   "cell_type": "markdown",
   "metadata": {},
   "source": [
    "Analysis:<br/>\n",
    "Based on this data regarding the number of Black Swifts seen each year, you can see they were seen pretty consistently, with a peak in 2016. There is a fairly solid upward trend as time goes on."
   ]
  },
  {
   "cell_type": "code",
   "execution_count": 7,
   "metadata": {
    "collapsed": false
   },
   "outputs": [
    {
     "data": {
      "text/plain": [
       "<matplotlib.text.Text at 0x10fe0e240>"
      ]
     },
     "execution_count": 7,
     "metadata": {},
     "output_type": "execute_result"
    },
    {
     "data": {
      "image/png": "[encoded data removed]",
      "text/plain": [
       "<matplotlib.figure.Figure at 0x10fe05cf8>"
      ]
     },
     "metadata": {},
     "output_type": "display_data"
    }
   ],
   "source": [
    "#Finding where Black Swifts are observed and graphing that\n",
    "import matplotlib.pyplot as plt\n",
    "% matplotlib inline\n",
    "file = open(\"BlackSwift.csv\", \"r\", errors=\"ignore\")\n",
    "flist = []\n",
    "latlist = []\n",
    "lonlist = []\n",
    "for i in file:\n",
    "    flist.append(i)\n",
    "del flist[0]\n",
    "for j in range(len(flist)):\n",
    "    flist[j]=flist[j].split(\",\")\n",
    "for i in range(len(flist)):\n",
    "    latlist.append(float(flist[i][12]))\n",
    "    lonlist.append(float(flist[i][13]))\n",
    "plt.scatter(lonlist,latlist)\n",
    "plt.title(\"Location of Black Swifts Throughout King County\")\n",
    "plt.xlabel(\"Longitude\")\n",
    "plt.ylabel(\"Latitude\")"
   ]
  },
  {
   "cell_type": "markdown",
   "metadata": {},
   "source": [
    "Analysis:<br/>\n",
    "Based on this graph of the location of where Black Swifts were seen each month, you can see they are see all over the place."
   ]
  },
  {
   "cell_type": "code",
   "execution_count": 24,
   "metadata": {
    "collapsed": false
   },
   "outputs": [],
   "source": [
    "file = open(\"HarlequinDuck.csv\", \"r\", errors=\"ignore\")\n",
    "flist =[]\n",
    "for i in file:\n",
    "    flist.append(i)\n",
    "del flist[0]\n",
    "for j in range(len(flist)):\n",
    "    flist[j]=flist[j].split(\",\")"
   ]
  },
  {
   "cell_type": "code",
   "execution_count": 25,
   "metadata": {
    "collapsed": false
   },
   "outputs": [
    {
     "name": "stdout",
     "output_type": "stream",
     "text": [
      "Harlequin Ducks seen in January: 583\n",
      "Harlequin Ducks seen in February: 93\n",
      "Harlequin Ducks seen in March: 122\n",
      "Harlequin Ducks seen in April: 96\n",
      "Harlequin Ducks seen in May: 46\n",
      "Harlequin Ducks seen in June: 22\n",
      "Harlequin Ducks seen in July: 3\n",
      "Harlequin Ducks seen in August: 10\n",
      "Harlequin Ducks seen in September: 31\n",
      "Harlequin Ducks seen in October: 80\n",
      "Harlequin Ducks seen in November: 121\n",
      "Harlequin Ducks seen in December: 148\n"
     ]
    },
    {
     "data": {
      "text/plain": [
       "<matplotlib.text.Text at 0x1108974e0>"
      ]
     },
     "execution_count": 25,
     "metadata": {},
     "output_type": "execute_result"
    },
    {
     "data": {
      "image/png": "[encoded data removed]",
      "text/plain": [
       "<matplotlib.figure.Figure at 0x11004cfd0>"
      ]
     },
     "metadata": {},
     "output_type": "display_data"
    }
   ],
   "source": [
    "#How many sightings in each month for Harlequin Ducks\n",
    "january = 0\n",
    "february = 0\n",
    "march = 0\n",
    "april = 0\n",
    "may = 0\n",
    "june = 0\n",
    "july = 0\n",
    "august = 0\n",
    "september = 0\n",
    "october = 0\n",
    "november = 0\n",
    "december = 0\n",
    "for row in flist:\n",
    "    if row[14][0:1] == '1':\n",
    "        january+=1\n",
    "    if row[14][0:1] == '2':\n",
    "        february+=1\n",
    "    if row[14][0:1] == '3':\n",
    "        march+=1\n",
    "    if row[14][0:1] == '4':\n",
    "        april+=1\n",
    "    if row[14][0:1] == '5':\n",
    "        may+=1\n",
    "    if row[14][0:1] == '6':\n",
    "        june+=1\n",
    "    if row[14][0:1] == '7':\n",
    "        july+=1\n",
    "    if row[14][0:1] == '8':\n",
    "        august+=1\n",
    "    if row[14][0:1] == '9':\n",
    "        september+=1\n",
    "    if row[14][0:2] == '10':\n",
    "        october+=1\n",
    "    if row[14][0:2] == '11':\n",
    "        november+=1\n",
    "    if row[14][0:2] == '12':\n",
    "        december+=1\n",
    "print(\"Harlequin Ducks seen in January:\", january)\n",
    "print(\"Harlequin Ducks seen in February:\", february)\n",
    "print(\"Harlequin Ducks seen in March:\", march)\n",
    "print(\"Harlequin Ducks seen in April:\", april)\n",
    "print(\"Harlequin Ducks seen in May:\", may)\n",
    "print(\"Harlequin Ducks seen in June:\", june)\n",
    "print(\"Harlequin Ducks seen in July:\", july)\n",
    "print(\"Harlequin Ducks seen in August:\", august)\n",
    "print(\"Harlequin Ducks seen in September:\", september)\n",
    "print(\"Harlequin Ducks seen in October:\", october)\n",
    "print(\"Harlequin Ducks seen in November:\", november)\n",
    "print(\"Harlequin Ducks seen in December:\", december)\n",
    "#Graphing how many Harlequin Ducks are seen each month\n",
    "import matplotlib.pyplot as plt\n",
    "% matplotlib inline\n",
    "months=[january, february, march, april, may, june, july, august, september, october, november, december]\n",
    "plt.hist(months)\n",
    "plt.title(\"Number of Harlequin Ducks Seen Each Month\")\n",
    "plt.xlabel(\"Harlequin Ducks Seen\")\n",
    "plt.ylabel(\"Frequency of Number\")"
   ]
  },
  {
   "cell_type": "markdown",
   "metadata": {},
   "source": [
    "Analysis:<br/>\n",
    "Based on this graph of the number of Harlequin Ducks seen each month, you can see they are seen pretty regularly throughout the year, especially around the winter time."
   ]
  },
  {
   "cell_type": "code",
   "execution_count": 41,
   "metadata": {
    "collapsed": false
   },
   "outputs": [
    {
     "name": "stdout",
     "output_type": "stream",
     "text": [
      "Harlequin Ducks seen in 2009: 34\n",
      "Harlequin Ducks seen in 2010: 87\n",
      "Harlequin Ducks seen in 2011: 89\n",
      "Harlequin Ducks seen in 2012: 124\n",
      "Harlequin Ducks seen in 2013: 139\n",
      "Harlequin Ducks seen in 2014: 170\n",
      "Harlequin Ducks seen in 2015: 198\n",
      "Harlequin Ducks seen in 2016: 165\n"
     ]
    }
   ],
   "source": [
    "#How many sightings in each year for Harlequin Ducks\n",
    "year09 = 0\n",
    "year10 = 0\n",
    "year11 = 0\n",
    "year12 = 0\n",
    "year13 = 0\n",
    "year14 = 0\n",
    "year15 = 0\n",
    "year16 = 0\n",
    "for row in flist:\n",
    "    if row[14][-1] == '9':\n",
    "        year09+=1\n",
    "    if row[14][-1] == '0':\n",
    "        year10+=1\n",
    "    if row[14][-1] == '1':\n",
    "        year11+=1\n",
    "    if row[14][-1] == '2':\n",
    "        year12+=1\n",
    "    if row[14][-1] == '3':\n",
    "        year13+=1\n",
    "    if row[14][-1] == '4':\n",
    "        year14+=1\n",
    "    if row[14][-1] == '5':\n",
    "        year15+=1\n",
    "    if row[14][-1] == '6':\n",
    "        year16+=1\n",
    "print(\"Harlequin Ducks seen in 2009:\", year09)\n",
    "print(\"Harlequin Ducks seen in 2010:\", year10)\n",
    "print(\"Harlequin Ducks seen in 2011:\", year11)\n",
    "print(\"Harlequin Ducks seen in 2012:\", year12)\n",
    "print(\"Harlequin Ducks seen in 2013:\", year13)\n",
    "print(\"Harlequin Ducks seen in 2014:\", year14)\n",
    "print(\"Harlequin Ducks seen in 2015:\", year15)\n",
    "print(\"Harlequin Ducks seen in 2016:\", year16)"
   ]
  },
  {
   "cell_type": "markdown",
   "metadata": {},
   "source": [
    "Analysis:<br/>\n",
    "Based on this data regarding the number of Harlequin Ducks seen each year, you can see they were seen pretty consistently, with a peak in 2015. There is a fairly solid upward trend as time goes on."
   ]
  },
  {
   "cell_type": "code",
   "execution_count": 8,
   "metadata": {
    "collapsed": false
   },
   "outputs": [
    {
     "data": {
      "text/plain": [
       "<matplotlib.text.Text at 0x110025278>"
      ]
     },
     "execution_count": 8,
     "metadata": {},
     "output_type": "execute_result"
    },
    {
     "data": {
      "image/png": "[encoded data removed]",
      "text/plain": [
       "<matplotlib.figure.Figure at 0x10ff5fd68>"
      ]
     },
     "metadata": {},
     "output_type": "display_data"
    }
   ],
   "source": [
    "#Finding where Harlequin Ducks are observed and graphing that\n",
    "import matplotlib.pyplot as plt\n",
    "% matplotlib inline\n",
    "file = open(\"HarlequinDuck.csv\", \"r\", errors=\"ignore\")\n",
    "flist = []\n",
    "latlist = []\n",
    "lonlist = []\n",
    "for i in file:\n",
    "    flist.append(i)\n",
    "del flist[0]\n",
    "for j in range(len(flist)):\n",
    "    flist[j]=flist[j].split(\",\")\n",
    "for i in range(len(flist)):\n",
    "    latlist.append(float(flist[i][12]))\n",
    "    lonlist.append(float(flist[i][13]))\n",
    "plt.scatter(lonlist,latlist)\n",
    "plt.title(\"Location of Harlequin Ducks Throughout King County\")\n",
    "plt.xlabel(\"Longitude\")\n",
    "plt.ylabel(\"Latitude\")"
   ]
  },
  {
   "cell_type": "markdown",
   "metadata": {},
   "source": [
    "Analysis:<br/>\n",
    "Based on this graph of the location of where Black Swifts were seen each month, you can see aside from outliers over to the east, they are pretty solidly seen to the west of King County, in the water."
   ]
  },
  {
   "cell_type": "code",
   "execution_count": 26,
   "metadata": {
    "collapsed": false
   },
   "outputs": [],
   "source": [
    "file = open(\"LazuliBunting.csv\", \"r\", errors=\"ignore\")\n",
    "flist =[]\n",
    "for i in file:\n",
    "    flist.append(i)\n",
    "del flist[0]\n",
    "for j in range(len(flist)):\n",
    "    flist[j]=flist[j].split(\",\")"
   ]
  },
  {
   "cell_type": "code",
   "execution_count": 27,
   "metadata": {
    "collapsed": false
   },
   "outputs": [
    {
     "name": "stdout",
     "output_type": "stream",
     "text": [
      "Lazuli Buntings seen in January: 0\n",
      "Lazuli Buntings seen in February: 0\n",
      "Lazuli Buntings seen in March: 0\n",
      "Lazuli Buntings seen in April: 0\n",
      "Lazuli Buntings seen in May: 349\n",
      "Lazuli Buntings seen in June: 311\n",
      "Lazuli Buntings seen in July: 93\n",
      "Lazuli Buntings seen in August: 19\n",
      "Lazuli Buntings seen in September: 1\n",
      "Lazuli Buntings seen in October: 0\n",
      "Lazuli Buntings seen in November: 0\n",
      "Lazuli Buntings seen in December: 0\n"
     ]
    },
    {
     "data": {
      "text/plain": [
       "<matplotlib.text.Text at 0x1108754a8>"
      ]
     },
     "execution_count": 27,
     "metadata": {},
     "output_type": "execute_result"
    },
    {
     "data": {
      "image/png": "[encoded data removed]",
      "text/plain": [
       "<matplotlib.figure.Figure at 0x112757400>"
      ]
     },
     "metadata": {},
     "output_type": "display_data"
    }
   ],
   "source": [
    "#How many sightings in each month for Lazuli Buntings\n",
    "january = 0\n",
    "february = 0\n",
    "march = 0\n",
    "april = 0\n",
    "may = 0\n",
    "june = 0\n",
    "july = 0\n",
    "august = 0\n",
    "september = 0\n",
    "october = 0\n",
    "november = 0\n",
    "december = 0\n",
    "for row in flist:\n",
    "    if row[14][0:1] == '1':\n",
    "        january+=1\n",
    "    if row[14][0:1] == '2':\n",
    "        february+=1\n",
    "    if row[14][0:1] == '3':\n",
    "        march+=1\n",
    "    if row[14][0:1] == '4':\n",
    "        april+=1\n",
    "    if row[14][0:1] == '5':\n",
    "        may+=1\n",
    "    if row[14][0:1] == '6':\n",
    "        june+=1\n",
    "    if row[14][0:1] == '7':\n",
    "        july+=1\n",
    "    if row[14][0:1] == '8':\n",
    "        august+=1\n",
    "    if row[14][0:1] == '9':\n",
    "        september+=1\n",
    "    if row[14][0:2] == '10':\n",
    "        october+=1\n",
    "    if row[14][0:2] == '11':\n",
    "        november+=1\n",
    "    if row[14][0:2] == '12':\n",
    "        december+=1\n",
    "print(\"Lazuli Buntings seen in January:\", january)\n",
    "print(\"Lazuli Buntings seen in February:\", february)\n",
    "print(\"Lazuli Buntings seen in March:\", march)\n",
    "print(\"Lazuli Buntings seen in April:\", april)\n",
    "print(\"Lazuli Buntings seen in May:\", may)\n",
    "print(\"Lazuli Buntings seen in June:\", june)\n",
    "print(\"Lazuli Buntings seen in July:\", july)\n",
    "print(\"Lazuli Buntings seen in August:\", august)\n",
    "print(\"Lazuli Buntings seen in September:\", september)\n",
    "print(\"Lazuli Buntings seen in October:\", october)\n",
    "print(\"Lazuli Buntings seen in November:\", november)\n",
    "print(\"Lazuli Buntings seen in December:\", december)\n",
    "#Graphing how many Lazuli Buntings are seen each month\n",
    "import matplotlib.pyplot as plt\n",
    "% matplotlib inline\n",
    "months=[january, february, march, april, may, june, july, august, september, october, november, december]\n",
    "plt.hist(months)\n",
    "plt.title(\"Number of Lazuli Buntings Seen Each Month\")\n",
    "plt.xlabel(\"Lazuli Buntings Seen\")\n",
    "plt.ylabel(\"Frequency of Number\")"
   ]
  },
  {
   "cell_type": "markdown",
   "metadata": {},
   "source": [
    "Analysis:<br/>\n",
    "Based on this graph of the number of Lazuli Buntings seen each month, you can see they are the most prominent throughout King County in the spring and summer, in May especially."
   ]
  },
  {
   "cell_type": "code",
   "execution_count": 44,
   "metadata": {
    "collapsed": false
   },
   "outputs": [
    {
     "name": "stdout",
     "output_type": "stream",
     "text": [
      "Lazuli Buntings seen in 2009: 66\n",
      "Lazuli Buntings seen in 2010: 19\n",
      "Lazuli Buntings seen in 2011: 55\n",
      "Lazuli Buntings seen in 2012: 76\n",
      "Lazuli Buntings seen in 2013: 110\n",
      "Lazuli Buntings seen in 2014: 126\n",
      "Lazuli Buntings seen in 2015: 164\n",
      "Lazuli Buntings seen in 2016: 157\n"
     ]
    }
   ],
   "source": [
    "#How many sightings in each year for Lazuli Buntings\n",
    "year09 = 0\n",
    "year10 = 0\n",
    "year11 = 0\n",
    "year12 = 0\n",
    "year13 = 0\n",
    "year14 = 0\n",
    "year15 = 0\n",
    "year16 = 0\n",
    "for row in flist:\n",
    "    if row[14][-1] == '9':\n",
    "        year09+=1\n",
    "    if row[14][-1] == '0':\n",
    "        year10+=1\n",
    "    if row[14][-1] == '1':\n",
    "        year11+=1\n",
    "    if row[14][-1] == '2':\n",
    "        year12+=1\n",
    "    if row[14][-1] == '3':\n",
    "        year13+=1\n",
    "    if row[14][-1] == '4':\n",
    "        year14+=1\n",
    "    if row[14][-1] == '5':\n",
    "        year15+=1\n",
    "    if row[14][-1] == '6':\n",
    "        year16+=1\n",
    "print(\"Lazuli Buntings seen in 2009:\", year09)\n",
    "print(\"Lazuli Buntings seen in 2010:\", year10)\n",
    "print(\"Lazuli Buntings seen in 2011:\", year11)\n",
    "print(\"Lazuli Buntings seen in 2012:\", year12)\n",
    "print(\"Lazuli Buntings seen in 2013:\", year13)\n",
    "print(\"Lazuli Buntings seen in 2014:\", year14)\n",
    "print(\"Lazuli Buntings seen in 2015:\", year15)\n",
    "print(\"Lazuli Buntings seen in 2016:\", year16)"
   ]
  },
  {
   "cell_type": "markdown",
   "metadata": {},
   "source": [
    "Analysis:<br/>\n",
    "Based on this data regarding the number of Lazuli Buntings seen each year, you can see they were seen pretty consistently, with a peak in 2015. There is a fairly solid upward trend as time goes on."
   ]
  },
  {
   "cell_type": "code",
   "execution_count": 9,
   "metadata": {
    "collapsed": false
   },
   "outputs": [
    {
     "data": {
      "text/plain": [
       "<matplotlib.text.Text at 0x10fdd1668>"
      ]
     },
     "execution_count": 9,
     "metadata": {},
     "output_type": "execute_result"
    },
    {
     "data": {
      "image/png": "[encoded data removed]",
      "text/plain": [
       "<matplotlib.figure.Figure at 0x10fdc65f8>"
      ]
     },
     "metadata": {},
     "output_type": "display_data"
    }
   ],
   "source": [
    "#Finding where Lazuli Buntings are observed and graphing that\n",
    "import matplotlib.pyplot as plt\n",
    "% matplotlib inline\n",
    "file = open(\"LazuliBunting.csv\", \"r\", errors=\"ignore\")\n",
    "flist = []\n",
    "latlist = []\n",
    "lonlist = []\n",
    "for i in file:\n",
    "    flist.append(i)\n",
    "del flist[0]\n",
    "for j in range(len(flist)):\n",
    "    flist[j]=flist[j].split(\",\")\n",
    "for i in range(len(flist)):\n",
    "    latlist.append(float(flist[i][12]))\n",
    "    lonlist.append(float(flist[i][13]))\n",
    "plt.scatter(lonlist,latlist)\n",
    "plt.title(\"Location of Lazuli Buntings Throughout King County\")\n",
    "plt.xlabel(\"Longitude\")\n",
    "plt.ylabel(\"Latitude\")"
   ]
  },
  {
   "cell_type": "markdown",
   "metadata": {},
   "source": [
    "Analysis:<br/>\n",
    "Based on this graph of the location of where Lazuli Buntings were seen each month, you can see the sightings are fairly miscellaneous and follow no particular pattern."
   ]
  },
  {
   "cell_type": "code",
   "execution_count": 28,
   "metadata": {
    "collapsed": false
   },
   "outputs": [],
   "source": [
    "file = open(\"AnnasHummingbird.csv\", \"r\", errors=\"ignore\")\n",
    "flist =[]\n",
    "for i in file:\n",
    "    flist.append(i)\n",
    "del flist[0]\n",
    "for j in range(len(flist)):\n",
    "    flist[j]=flist[j].split(\",\")"
   ]
  },
  {
   "cell_type": "code",
   "execution_count": 29,
   "metadata": {
    "collapsed": false
   },
   "outputs": [
    {
     "name": "stdout",
     "output_type": "stream",
     "text": [
      "Annas Hummingbirds seen in January: 8498\n",
      "Annas Hummingbirds seen in February: 3055\n",
      "Annas Hummingbirds seen in March: 3166\n",
      "Annas Hummingbirds seen in April: 3217\n",
      "Annas Hummingbirds seen in May: 3317\n",
      "Annas Hummingbirds seen in June: 1861\n",
      "Annas Hummingbirds seen in July: 1657\n",
      "Annas Hummingbirds seen in August: 2181\n",
      "Annas Hummingbirds seen in September: 1726\n",
      "Annas Hummingbirds seen in October: 1726\n",
      "Annas Hummingbirds seen in November: 1581\n",
      "Annas Hummingbirds seen in December: 1971\n"
     ]
    },
    {
     "data": {
      "text/plain": [
       "<matplotlib.text.Text at 0x118a4aa58>"
      ]
     },
     "execution_count": 29,
     "metadata": {},
     "output_type": "execute_result"
    },
    {
     "data": {
      "image/png": "[encoded data removed]",
      "text/plain": [
       "<matplotlib.figure.Figure at 0x11086b668>"
      ]
     },
     "metadata": {},
     "output_type": "display_data"
    }
   ],
   "source": [
    "#How many sightings in each month for Annas Hummingbirds\n",
    "january = 0\n",
    "february = 0\n",
    "march = 0\n",
    "april = 0\n",
    "may = 0\n",
    "june = 0\n",
    "july = 0\n",
    "august = 0\n",
    "september = 0\n",
    "october = 0\n",
    "november = 0\n",
    "december = 0\n",
    "for row in flist:\n",
    "    if row[14][0:1] == '1':\n",
    "        january+=1\n",
    "    if row[14][0:1] == '2':\n",
    "        february+=1\n",
    "    if row[14][0:1] == '3':\n",
    "        march+=1\n",
    "    if row[14][0:1] == '4':\n",
    "        april+=1\n",
    "    if row[14][0:1] == '5':\n",
    "        may+=1\n",
    "    if row[14][0:1] == '6':\n",
    "        june+=1\n",
    "    if row[14][0:1] == '7':\n",
    "        july+=1\n",
    "    if row[14][0:1] == '8':\n",
    "        august+=1\n",
    "    if row[14][0:1] == '9':\n",
    "        september+=1\n",
    "    if row[14][0:2] == '10':\n",
    "        october+=1\n",
    "    if row[14][0:2] == '11':\n",
    "        november+=1\n",
    "    if row[14][0:2] == '12':\n",
    "        december+=1\n",
    "print(\"Annas Hummingbirds seen in January:\", january)\n",
    "print(\"Annas Hummingbirds seen in February:\", february)\n",
    "print(\"Annas Hummingbirds seen in March:\", march)\n",
    "print(\"Annas Hummingbirds seen in April:\", april)\n",
    "print(\"Annas Hummingbirds seen in May:\", may)\n",
    "print(\"Annas Hummingbirds seen in June:\", june)\n",
    "print(\"Annas Hummingbirds seen in July:\", july)\n",
    "print(\"Annas Hummingbirds seen in August:\", august)\n",
    "print(\"Annas Hummingbirds seen in September:\", september)\n",
    "print(\"Annas Hummingbirds seen in October:\", october)\n",
    "print(\"Annas Hummingbirds seen in November:\", november)\n",
    "print(\"Annas Hummingbirds seen in December:\", december)\n",
    "#Graphing how many Annas Hummingbirds are seen each month\n",
    "import matplotlib.pyplot as plt\n",
    "% matplotlib inline\n",
    "months=[january, february, march, april, may, june, july, august, september, october, november, december]\n",
    "plt.hist(months)\n",
    "plt.title(\"Number of Annas Hummingbirds Seen Each Month\")\n",
    "plt.xlabel(\"Annas Hummingbirds Seen\")\n",
    "plt.ylabel(\"Frequency of Number\")"
   ]
  },
  {
   "cell_type": "markdown",
   "metadata": {},
   "source": [
    "Analysis:<br/>\n",
    "Based on this graph of the number of Annas Hummingbirds seen each month, you can see they are the most prominent throughout King County in the winter and spring, especially in January."
   ]
  },
  {
   "cell_type": "code",
   "execution_count": 47,
   "metadata": {
    "collapsed": false
   },
   "outputs": [
    {
     "name": "stdout",
     "output_type": "stream",
     "text": [
      "Annas Hummingbirds seen in 2009: 1392\n",
      "Annas Hummingbirds seen in 2010: 2032\n",
      "Annas Hummingbirds seen in 2011: 2076\n",
      "Annas Hummingbirds seen in 2012: 3333\n",
      "Annas Hummingbirds seen in 2013: 4178\n",
      "Annas Hummingbirds seen in 2014: 4372\n",
      "Annas Hummingbirds seen in 2015: 5634\n",
      "Annas Hummingbirds seen in 2016: 5661\n"
     ]
    }
   ],
   "source": [
    "#How many sightings in each year for Annas Hummingbirds\n",
    "year09 = 0\n",
    "year10 = 0\n",
    "year11 = 0\n",
    "year12 = 0\n",
    "year13 = 0\n",
    "year14 = 0\n",
    "year15 = 0\n",
    "year16 = 0\n",
    "for row in flist:\n",
    "    if row[14][-1] == '9':\n",
    "        year09+=1\n",
    "    if row[14][-1] == '0':\n",
    "        year10+=1\n",
    "    if row[14][-1] == '1':\n",
    "        year11+=1\n",
    "    if row[14][-1] == '2':\n",
    "        year12+=1\n",
    "    if row[14][-1] == '3':\n",
    "        year13+=1\n",
    "    if row[14][-1] == '4':\n",
    "        year14+=1\n",
    "    if row[14][-1] == '5':\n",
    "        year15+=1\n",
    "    if row[14][-1] == '6':\n",
    "        year16+=1\n",
    "print(\"Annas Hummingbirds seen in 2009:\", year09)\n",
    "print(\"Annas Hummingbirds seen in 2010:\", year10)\n",
    "print(\"Annas Hummingbirds seen in 2011:\", year11)\n",
    "print(\"Annas Hummingbirds seen in 2012:\", year12)\n",
    "print(\"Annas Hummingbirds seen in 2013:\", year13)\n",
    "print(\"Annas Hummingbirds seen in 2014:\", year14)\n",
    "print(\"Annas Hummingbirds seen in 2015:\", year15)\n",
    "print(\"Annas Hummingbirds seen in 2016:\", year16)"
   ]
  },
  {
   "cell_type": "markdown",
   "metadata": {},
   "source": [
    "Analysis:<br/>\n",
    "Based on this data regarding the number of Annas Hummingbirds seen each year, you can see they were seen pretty consistently, with a peak in 2016. There is a fairly solid upward trend as time goes on."
   ]
  },
  {
   "cell_type": "code",
   "execution_count": 10,
   "metadata": {
    "collapsed": false,
    "scrolled": true
   },
   "outputs": [
    {
     "data": {
      "text/plain": [
       "<matplotlib.text.Text at 0x112ae2550>"
      ]
     },
     "execution_count": 10,
     "metadata": {},
     "output_type": "execute_result"
    },
    {
     "data": {
      "image/png": "[encoded data removed]",
      "text/plain": [
       "<matplotlib.figure.Figure at 0x11298f908>"
      ]
     },
     "metadata": {},
     "output_type": "display_data"
    }
   ],
   "source": [
    "#Finding where Annas Hummingbirds are observed and graphing that\n",
    "import matplotlib.pyplot as plt\n",
    "% matplotlib inline\n",
    "file = open(\"AnnasHummingbird.csv\", \"r\", errors=\"ignore\")\n",
    "flist = []\n",
    "latlist = []\n",
    "lonlist = []\n",
    "for i in file:\n",
    "    flist.append(i)\n",
    "del flist[0]\n",
    "for j in range(len(flist)):\n",
    "    flist[j]=flist[j].split(\",\")\n",
    "for i in range(len(flist)):\n",
    "    latlist.append(float(flist[i][12]))\n",
    "    lonlist.append(float(flist[i][13]))\n",
    "plt.scatter(lonlist,latlist()\n",
    "plt.title(\"Location of Annas Hummingbirds Throughout King County\")\n",
    "plt.xlabel(\"Longitude\")\n",
    "plt.ylabel(\"Latitude\")"
   ]
  },
  {
   "cell_type": "markdown",
   "metadata": {},
   "source": [
    "Analysis:<br/>\n",
    "Based on this graph of the location of where Annas Hummingbirds were seen each month, you can see the sightings are very dense and pretty much everywhere in west King County."
   ]
  },
  {
   "cell_type": "markdown",
   "metadata": {},
   "source": [
    "<H2>Conclusion:"
   ]
  },
  {
   "cell_type": "markdown",
   "metadata": {
    "collapsed": true
   },
   "source": [
    "Annas Hummingbirds were sighted the most, and Bramblings were sighted the least. Each bird has a different pattern of location varying where/when/how often people see them and report them."
   ]
  }
 ],
 "metadata": {
  "anaconda-cloud": {},
  "kernelspec": {
   "display_name": "Python [Root]",
   "language": "python",
   "name": "Python [Root]"
  },
  "language_info": {
   "codemirror_mode": {
    "name": "ipython",
    "version": 3
   },
   "file_extension": ".py",
   "mimetype": "text/x-python",
   "name": "python",
   "nbconvert_exporter": "python",
   "pygments_lexer": "ipython3",
   "version": "3.5.2"
  }
 },
 "nbformat": 4,
 "nbformat_minor": 0
}
